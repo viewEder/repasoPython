{
 "cells": [
  {
   "attachments": {},
   "cell_type": "markdown",
   "id": "d81d4d4e",
   "metadata": {},
   "source": [
    "Hacer una app en Python puro que espere inicialmente un numero en el rango 1-12, de no estar en este rango el valor insertado; controlarlo e indicárselo al usuario con un mensaje. Si el valor si se encuentra dentro del rango le retorna al usuario a que mes del año corresponde ese numero. Enero = 1."
   ]
  },
  {
   "cell_type": "code",
   "execution_count": 1,
   "id": "3327174d",
   "metadata": {},
   "outputs": [],
   "source": [
    "# Variables y constantes:\n"
   ]
  },
  {
   "cell_type": "code",
   "execution_count": 2,
   "id": "beb47476",
   "metadata": {},
   "outputs": [
    {
     "ename": "ValueError",
     "evalue": "invalid literal for int() with base 10: ''",
     "output_type": "error",
     "traceback": [
      "\u001b[0;31m---------------------------------------------------------------------------\u001b[0m",
      "\u001b[0;31mValueError\u001b[0m                                Traceback (most recent call last)",
      "Cell \u001b[0;32mIn[2], line 1\u001b[0m\n\u001b[0;32m----> 1\u001b[0m variable \u001b[39m=\u001b[39m \u001b[39mint\u001b[39;49m(\u001b[39minput\u001b[39;49m(\u001b[39m\"\u001b[39;49m\u001b[39mescribe un numero\u001b[39;49m\u001b[39m\"\u001b[39;49m))\n\u001b[1;32m      2\u001b[0m meses \u001b[39m=\u001b[39m[\u001b[39m\"\u001b[39m\u001b[39menero\u001b[39m\u001b[39m\"\u001b[39m,\u001b[39m\"\u001b[39m\u001b[39mfebrero\u001b[39m\u001b[39m\"\u001b[39m,\u001b[39m\"\u001b[39m\u001b[39mmarzo\u001b[39m\u001b[39m\"\u001b[39m,\u001b[39m\"\u001b[39m\u001b[39mabril\u001b[39m\u001b[39m\"\u001b[39m,\u001b[39m\"\u001b[39m\u001b[39mmayo\u001b[39m\u001b[39m\"\u001b[39m,\u001b[39m\"\u001b[39m\u001b[39mjunio\u001b[39m\u001b[39m\"\u001b[39m,\u001b[39m\"\u001b[39m\u001b[39mjulio\u001b[39m\u001b[39m\"\u001b[39m,\u001b[39m\"\u001b[39m\u001b[39magosto\u001b[39m\u001b[39m\"\u001b[39m,\u001b[39m\"\u001b[39m\u001b[39mseptiembre\u001b[39m\u001b[39m\"\u001b[39m,\u001b[39m\"\u001b[39m\u001b[39moctubre\u001b[39m\u001b[39m\"\u001b[39m,\u001b[39m\"\u001b[39m\u001b[39mnoviembre\u001b[39m\u001b[39m\"\u001b[39m,\u001b[39m\"\u001b[39m\u001b[39mdiciembre\u001b[39m\u001b[39m\"\u001b[39m]\n\u001b[1;32m      3\u001b[0m \u001b[39mif\u001b[39;00m variable \u001b[39m<\u001b[39m\u001b[39m=\u001b[39m \u001b[39m12\u001b[39m \u001b[39mand\u001b[39;00m variable \u001b[39m>\u001b[39m\u001b[39m=\u001b[39m \u001b[39m1\u001b[39m:\n",
      "\u001b[0;31mValueError\u001b[0m: invalid literal for int() with base 10: ''"
     ]
    }
   ],
   "source": [
    "variable = int(input(\"escribe un numero\"))\n",
    "meses =[\"enero\",\"febrero\",\"marzo\",\"abril\",\"mayo\",\"junio\",\"julio\",\"agosto\",\"septiembre\",\"octubre\",\"noviembre\",\"diciembre\"]\n",
    "if variable <= 12 and variable >= 1:\n",
    "    print(f\"El numero {variable} corresponde a {meses[variable-1]}\")\n",
    "else:\n",
    "    print(f\"El numero {variable} debe estar un rango de 1-12\")"
   ]
  },
  {
   "cell_type": "code",
   "execution_count": null,
   "id": "a0624628",
   "metadata": {},
   "outputs": [
    {
     "name": "stdout",
     "output_type": "stream",
     "text": [
      "{1: 'Enero', 2: 'Febrero', 3: 'Marzo', 4: 'Abril', 5: 'Mayo', 6: 'Junio', 7: 'Julio', 8: 'Agosto', 9: 'Septiembre', 10: 'Octubre', 11: 'Noviembre', 12: 'Diciembre'}\n"
     ]
    }
   ],
   "source": [
    "rango = []\n",
    "meses = ['Enero', 'Febrero', 'Marzo', 'Abril', 'Mayo', 'Junio', 'Julio', 'Agosto', 'Septiembre', 'Octubre', 'Noviembre', 'Diciembre']\n",
    "# Recorrido de los elementos de la lista:\n",
    "for x in range(13):\n",
    "    if x > 0:\n",
    "        rango.append(x)\n",
    "    #print(rango)\n",
    "z = zip(rango, meses)\n",
    "diccionario = dict(z)\n",
    "print(diccionario)\n"
   ]
  },
  {
   "attachments": {},
   "cell_type": "markdown",
   "id": "fef6c837",
   "metadata": {},
   "source": [
    "Elaborar una rutina que valide el acceso de un usuario con el dominio \"@xmail.com\".\n",
    "1. Validar el usuario, retorna a preguntar el usuario\n",
    "2. Validar la contraseña\n",
    "3. Poner un mensaje de bienvenida\n",
    "(Siempre que se dice \"Validar\" hace referencia a entregas True o False)"
   ]
  },
  {
   "cell_type": "code",
   "execution_count": null,
   "id": "f67b0fdc",
   "metadata": {},
   "outputs": [],
   "source": [
    "usuarios =['admin', 'sebas', 'carlos', 'camilo', 'mauricio', 'william', 'saulo', 'diego', 'marco', 'eder']\n",
    "usuarios\n",
    "password = ['123']"
   ]
  },
  {
   "cell_type": "code",
   "execution_count": null,
   "id": "27a45a51",
   "metadata": {},
   "outputs": [
    {
     "name": "stdout",
     "output_type": "stream",
     "text": [
      "Ingrese su usuario sebas\n"
     ]
    }
   ],
   "source": [
    "dominio = '@xmail.com'\n",
    "while(True):\n",
    "    user = input('Ingrese su usuario ',)\n",
    "    if user in usuarios:\n",
    "        duser = f'{user}{dominio}'\n",
    "        break\n",
    "    else:\n",
    "        print('El usuario no está en la lista')\n",
    "    \n",
    "# Haciendo debug de mi primer resultado: print(duser)    "
   ]
  },
  {
   "cell_type": "code",
   "execution_count": null,
   "id": "acc9880f",
   "metadata": {},
   "outputs": [
    {
     "name": "stdout",
     "output_type": "stream",
     "text": [
      "Ingrese la contraseña: 345\n",
      "Contraseña incorrecta\n"
     ]
    }
   ],
   "source": [
    "pawd = input('Ingrese la contraseña: ',)\n",
    "# Crear una bandera de 3 intentos:\n",
    "if pawd in password:\n",
    "    print(f'Bienvenido {user}')\n",
    "else:\n",
    "    print('Contraseña incorrecta')"
   ]
  },
  {
   "cell_type": "code",
   "execution_count": null,
   "id": "5b6559c3",
   "metadata": {},
   "outputs": [],
   "source": [
    "us = 'admin'\n",
    "passwd = input(f'Ingrese la contraseña para el usuario {us} ',)"
   ]
  },
  {
   "cell_type": "code",
   "execution_count": null,
   "id": "c321d1ab",
   "metadata": {},
   "outputs": [
    {
     "name": "stdout",
     "output_type": "stream",
     "text": [
      "Ingrese la contraseña para el usuario admin admin123\n",
      "Ingrese la contraseña para el usuario sebas sebas980\n",
      "Ingrese la contraseña para el usuario carlos carlos908\n",
      "Ingrese la contraseña para el usuario camilo camilo062\n",
      "Ingrese la contraseña para el usuario mauricio mau907\n",
      "Ingrese la contraseña para el usuario william willi123\n",
      "Ingrese la contraseña para el usuario saulo saulo567\n",
      "Ingrese la contraseña para el usuario diego diego321\n",
      "Ingrese la contraseña para el usuario marco marco457\n",
      "Ingrese la contraseña para el usuario eder eder186\n",
      "{'admin': 'admin123', 'sebas': 'sebas980', 'carlos': 'carlos908', 'camilo': 'camilo062', 'mauricio': 'mau907', 'william': 'willi123', 'saulo': 'saulo567', 'diego': 'diego321', 'marco': 'marco457', 'eder': 'eder186'}\n"
     ]
    }
   ],
   "source": [
    "# Usuarios en una estructura de datos tipo diccionario:\n",
    "claves = []\n",
    "for u in usuarios:\n",
    "    passwd = input(f'Ingrese la contraseña para el usuario {u} ',)\n",
    "    claves.append(passwd)\n",
    "tuplas = zip(usuarios, claves)\n",
    "users = dict(tuplas)\n",
    "print(users)"
   ]
  },
  {
   "cell_type": "code",
   "execution_count": null,
   "id": "6fd29c18",
   "metadata": {},
   "outputs": [
    {
     "data": {
      "text/plain": [
       "{'admin': 'admin123',\n",
       " 'sebas': 'sebas980',\n",
       " 'carlos': 'carlos908',\n",
       " 'camilo': 'camilo062',\n",
       " 'mauricio': 'mau907',\n",
       " 'william': 'willi123',\n",
       " 'saulo': 'saulo567',\n",
       " 'diego': 'diego321',\n",
       " 'marco': 'marco457',\n",
       " 'eder': 'eder186'}"
      ]
     },
     "execution_count": 58,
     "metadata": {},
     "output_type": "execute_result"
    }
   ],
   "source": [
    "users"
   ]
  },
  {
   "cell_type": "code",
   "execution_count": null,
   "id": "7e49a12b",
   "metadata": {},
   "outputs": [],
   "source": [
    "# Variables y Constantes:\n",
    "users\n",
    "dominio = '@xmail.com'"
   ]
  },
  {
   "cell_type": "code",
   "execution_count": null,
   "id": "27649b6a",
   "metadata": {},
   "outputs": [],
   "source": [
    "def validaUser(user):\n",
    "    ''' Funcion para validar la existencia del usuario'''\n",
    "    if user in users:\n",
    "        #duser = f'{user}{dominio}'\n",
    "        return ingresoPass(user)\n",
    "    else:\n",
    "        mensaje = 'Usuario no encontrado!'\n",
    "        ingresoUsuario(mensaje=mensaje)"
   ]
  },
  {
   "cell_type": "code",
   "execution_count": null,
   "id": "b8072eeb",
   "metadata": {},
   "outputs": [],
   "source": [
    "def validaPass(duser, pawd):\n",
    "    if pawd == users[duser]:\n",
    "        mensaje = f'Bienvenido {duser}{dominio}'\n",
    "        print(mensaje)\n",
    "    else:\n",
    "        mensaje = 'Contraseña Errada'\n",
    "        return mensaje, ingresoPass(duser)"
   ]
  },
  {
   "cell_type": "code",
   "execution_count": null,
   "id": "74e7b6b5",
   "metadata": {},
   "outputs": [],
   "source": [
    "def ingresoUsuario(mensaje=null):\n",
    "    if mensaje != null:\n",
    "        print(mensaje)\n",
    "    user = input('Ingrese su usuario ',)\n",
    "    return validaUser(user)"
   ]
  },
  {
   "cell_type": "code",
   "execution_count": null,
   "id": "01c0f50e",
   "metadata": {},
   "outputs": [],
   "source": [
    "def ingresoPass(duser, mensaje=null):\n",
    "    pawd = input(f'Ingrese la contraseña para {duser}: ',)\n",
    "    validaPass(duser, pawd)"
   ]
  },
  {
   "cell_type": "code",
   "execution_count": null,
   "id": "a6eb1205",
   "metadata": {},
   "outputs": [
    {
     "name": "stdout",
     "output_type": "stream",
     "text": [
      "Ingrese su usuario edlkfj\n"
     ]
    }
   ],
   "source": [
    "# Escritorio de pruebas:\n",
    "ingresoUsuario()"
   ]
  },
  {
   "cell_type": "code",
   "execution_count": null,
   "id": "3e6979cc",
   "metadata": {},
   "outputs": [],
   "source": [
    "\"\"\"\n",
    "    Programación Orientada a Objetos\n",
    "\"\"\"\n",
    "# Ejemplo de agenda de citas médicas:\n",
    "# Objetos de pacientes\n",
    "# Cita\n",
    "# Consultorio\n",
    "# Agenda\n",
    "\n",
    "class CitaMedita:\n",
    "    ''' Clase para las citas medicas de los pacientes de consulta externa '''\n",
    "    # método constructor:\n",
    "    def __init__(self, fecha, hora, paciente, consultorio, medico):\n",
    "        ''' Método para construir el objeto con los atributos '''\n",
    "        self.fecha = fecha\n",
    "        self.hora = hora\n",
    "        self.paciente = paciente\n",
    "        self.consultorio = consultorio\n",
    "        self.medico = medico\n",
    "        print(f'Se ha creado el objeto de cita con los siguientes datos: {fecha} {hora} {paciente.nombre}')\n",
    "    \n",
    "class Paciente:\n",
    "    def __init__(self, nombre, apellido, edad, telefono):\n",
    "        self.nombre = nombre\n",
    "        self.apellido = apellido\n",
    "        self.edad = edad\n",
    "        self.telefono =  telefono\n",
    "\n",
    "class Consultorio:\n",
    "    def __init__(self, consultorio):\n",
    "        self.consultorio = consultorio\n",
    "        \n",
    "        \n",
    "class Medico:\n",
    "    def __init__(self, nombre, apellido, especialidad):\n",
    "        self.nombre = nombre\n",
    "        self.apellido = apellido\n",
    "        self.especialidad = especialidad\n",
    "\n",
    "class Agenda:\n",
    "    def __init__(self):\n",
    "        self.citas = []\n",
    "    \n",
    "    # Métodos de clase:\n",
    "    def agregar_cita(self, cita):\n",
    "        self.citas.append(cita)\n",
    "    \n",
    "    def imprimir_cita(self):\n",
    "        print(f'************ Citas Programadas ************')\n",
    "        for cita in self.citas:  \n",
    "            print(f'Fecha: {cita.fecha}, Hora: {cita.hora}, Paciente: {cita.paciente.nombre} {cita.paciente.apellido}, Médico: {cita.medico.nombre}')\n"
   ]
  },
  {
   "cell_type": "code",
   "execution_count": null,
   "id": "48b939c2",
   "metadata": {},
   "outputs": [],
   "source": [
    "# Crear los Médicos \n",
    "medico_1 = Medico('Anddy','Agudelo','Pediatra')\n",
    "medico_2 = Medico('Danny','Duqye','Médico General')\n",
    "\n",
    "# Crear los Pacientes\n",
    "paciente_1 = Paciente('Camilo','Montoya','30','3114567890')\n",
    "paciente_2 = Paciente('Julian','Jaramillo','25','3009876543')\n",
    "\n",
    "# Crear los Consultorios \n",
    "consultorio_1 = Consultorio('Consulta Externa 201')\n",
    "consultorio_2 = Consultorio('Consulta Externa 108')\n",
    "\n",
    "# Crear obetos de cita:\n",
    "cita_1 = CitaMedita('2023-06-26', '07:30:00', paciente_1, consultorio_2, 1)\n",
    "cita_2 = CitaMedita('2023-06-26', '13:00:00', paciente_2, consultorio_2, medico_2)"
   ]
  },
  {
   "cell_type": "code",
   "execution_count": null,
   "id": "12a77245",
   "metadata": {},
   "outputs": [],
   "source": [
    "# Objetos de la Agenda:\n",
    "agenda = Agenda()\n",
    "\n",
    "# implemantar los métodos de la clase Agenda:\n",
    "agenda.agregar_cita(cita_1)\n",
    "agenda.agregar_cita(cita_2)\n",
    "\n",
    "agenda.imprimir_cita()"
   ]
  },
  {
   "attachments": {},
   "cell_type": "markdown",
   "id": "71d820ae",
   "metadata": {},
   "source": [
    "## Ejercicio:\n",
    "Defina una clase 'Monedero' que permita gestionar la cantidad de dinero que una persona dispone en un momento\n",
    "dado. La clase deberá tener un constructor que permitirá crear un monedero con una cantidad de dinero inicial y\n",
    "deberá definir un método para meter dinero en el monedero, otro para sacarlo y finalmente, otro para consultar el\n",
    "disponible; solo podrá conocerse la cantidad de dinero del monedero a través de este último método. Por\n",
    "supuesto, no se podrá sacar más dinero del que haya en un momento dado en el monedero."
   ]
  },
  {
   "cell_type": "code",
   "execution_count": null,
   "id": "0a36e1a9",
   "metadata": {},
   "outputs": [],
   "source": [
    "class Monedero:\n",
    "    ''' Esta clase permite consultar saldo, agregar y sacar de este. '''\n",
    "    # Constructor:\n",
    "    def __init__(self):\n",
    "        self.saldo = 0\n",
    "        self.ingresos = []\n",
    "        self.egresos = []\n",
    "        \n",
    "    # Método de ingresar dinero    \n",
    "    def ingresaDinero(self, valor):\n",
    "        self.saldo += valor\n",
    "        self.ingresos.append(valor)\n",
    "        \n",
    "    # metodo de sacar dinero:\n",
    "    def sacaDinero(self, valor):\n",
    "        if valor < self.saldo:\n",
    "            self.saldo -= valor\n",
    "            self.egresos.append(valor*-1)\n",
    "        else:\n",
    "            return f'Fondos Insuficientes'\n",
    "    \n",
    "    # Método que me muestra el disponible:\n",
    "    def saldoDinero(self):\n",
    "        return f'Saldo Disponible:   ${self.saldo}'\n",
    "    \n",
    "    \n",
    "    # Método movimientos:\n",
    "    def movimientosCuenta(self):\n",
    "        print('********** Movimientos **********')\n",
    "        for x in self.ingresos:\n",
    "          print(f'Ingreso:     {x}')\n",
    "        for y in self.egresos:\n",
    "          print(f'Egreso:      {y}')"
   ]
  },
  {
   "cell_type": "code",
   "execution_count": null,
   "id": "fb90194d",
   "metadata": {},
   "outputs": [
    {
     "name": "stdout",
     "output_type": "stream",
     "text": [
      "Saldo Disponible:   $0\n",
      "Saldo Disponible:   $12000000\n",
      "Saldo Disponible:   $8200000\n"
     ]
    }
   ],
   "source": [
    "obj_cuenta = Monedero()\n",
    "print(obj_cuenta.saldoDinero())\n",
    "obj_cuenta.ingresaDinero(12000000)\n",
    "print(obj_cuenta.saldoDinero())\n",
    "obj_cuenta.sacaDinero(3800000)\n",
    "print(obj_cuenta.saldoDinero())"
   ]
  },
  {
   "cell_type": "code",
   "execution_count": null,
   "id": "3f529a2e",
   "metadata": {},
   "outputs": [
    {
     "name": "stdout",
     "output_type": "stream",
     "text": [
      "********** Movimientos **********\n",
      "Ingreso:     12000000\n",
      "Egreso:      -3800000\n"
     ]
    }
   ],
   "source": [
    "obj_cuenta.movimientosCuenta()"
   ]
  },
  {
   "attachments": {},
   "cell_type": "markdown",
   "id": "095d0f63",
   "metadata": {},
   "source": [
    "Una Empresa dedicada a la venta de Jugos, desea registrar la información de sus vendedores, respecto a:\n",
    "cedula, nombre, zonaDeVenta, vtasMensuales, totalAnual y comisión.\n",
    "Donde vtasMensuales representa las ventas realizadas por el vendedor en cada uno de los doce meses del año,\n",
    "totalAnual representa la suma de las ventas en un año y comisión un porcentaje que depende del totalAnual.\n",
    "Además la variable nombre está asociada con una clase Usuario cuyas instancias representan el apellido, el\n",
    "primer nombre y el segundoNombre de cada vendedor.\n",
    "* Definir la clase Vendedor y la clase Usuario\n",
    "* Definir en la clase que corresponda los métodos que permitan los siguientes requerimientos:\n",
    "    * Crear una instancia de la clase Vendedor y solicitar al usuario los datos para inicializar sus variables,\n",
    "excepto las variables vtasMensuales, totalAnual y comisión que se inicializan con ceros.\n",
    "    * Ingresar las ventas de un determinado mes."
   ]
  },
  {
   "attachments": {},
   "cell_type": "markdown",
   "id": "8e1ea4a2",
   "metadata": {},
   "source": [
    "# Herencia en POO\n",
    "\n",
    "La herencia en la Programación Orientada a Objetos (POO) es el mecanismo que permite a una clase heredar características , métodos y atributos de otra clase llamada \"clase base\" o \"superclase.\n",
    "\n",
    "Esto favorece la reutilización de código y permite crear jerarquías de clases, lo que permite estructurar y organizar el código de manera más clara y eficiente."
   ]
  },
  {
   "attachments": {},
   "cell_type": "markdown",
   "id": "04e1f121",
   "metadata": {},
   "source": [
    "## Modulo de usuarios:\n",
    "1. Debe tener la posibilidad de tipificar los usuarios (Usuarios con roles)\n",
    "2. Definir los procesos que son iguales a todos los usuarios\n",
    "\n",
    "* En un modelo de negocio tipo \"Store\", tenemos 3 perfiles de usuario: Administrador, Comprador, Vendedor. Todos estos usuarios tienen las sig caracteristicas: usuario y password."
   ]
  },
  {
   "cell_type": "code",
   "execution_count": 3,
   "id": "d9278879",
   "metadata": {},
   "outputs": [],
   "source": [
    "# Super Clase:\n",
    "class Usuario:\n",
    "    '''Clase para el manejo del módulo de usuarios:'''\n",
    "    def __init__(self, user, passwd):\n",
    "        self.user = user\n",
    "        self.passwd = passwd\n",
    "        \n",
    "    def login(self):\n",
    "        print(f'USuario {self.user} ingresando')\n",
    "        \n",
    "    def consultaCatalogo(self):\n",
    "        print(f'El usuario {self.user} está mirando el catálogo')\n",
    "\n",
    "\n",
    "# Clases Hijas:\n",
    "class Vendedor(Usuario):\n",
    "    # Constructor:\n",
    "    def __init__(self, user, passwd):\n",
    "        Usuario.__init__(self, user, passwd)\n",
    "    \n",
    "    def admin_productos(self):\n",
    "        print('Organizando el estante')\n",
    "\n",
    "class Comprador(Usuario):\n",
    "    # Constructor:\n",
    "    def __init__(self, user, passwd):\n",
    "        Usuario.__init__(self, user, passwd)\n",
    "    \n",
    "    def comprar(self):\n",
    "        pass\n",
    "\n",
    "class Administrador(Usuario):\n",
    "    # Constructor:\n",
    "    def __init__(self, user, passwd):\n",
    "        Usuario.__init__(self, user, passwd)"
   ]
  },
  {
   "attachments": {},
   "cell_type": "markdown",
   "id": "8c3d98d5",
   "metadata": {},
   "source": [
    "### Construir el siguiente modelo:\n",
    "Supongamos que tenemos una veterinaria, necesitamos codificar el modelo de animales que se están atendiendo:\n",
    "\n",
    "* Clase Animal\n",
    "* Clase Perro\n",
    "* Clase Volador\n",
    "* Clase Mascota\n",
    "* Clase Pajaro\n",
    "* Clase PajaroMascota"
   ]
  },
  {
   "cell_type": "code",
   "execution_count": 4,
   "id": "7ac61228",
   "metadata": {},
   "outputs": [],
   "source": [
    "class Animal:\n",
    "    def __init__(self, nombre):\n",
    "        self.nombre = nombre\n",
    "    \n",
    "    def comer(self):\n",
    "        pass\n",
    "    \n",
    "    def desplazarse(self):\n",
    "        pass\n",
    "    \n",
    "    def vacuna(self):\n",
    "        pass\n",
    "    \n",
    "        \n",
    "class Mascota:\n",
    "    def jugar(self):\n",
    "        print('La mascota juega')\n",
    "        \n",
    "class Volador:\n",
    "    def volar(self):\n",
    "        print('Este animal está volando')\n",
    "        \n",
    "# Clases Hijas de mis clases abstractas:\n",
    "class Perro(Mascota, Animal):\n",
    "    def __init__(self, nombre):\n",
    "        Animal.__init__(self, nombre)\n",
    "        \n",
    "class Pajaro(Animal, Volador):\n",
    "    def __init__(self, nombre):\n",
    "        Animal.__init__(self, nombre)\n",
    "        \n",
    "class PajaroMascota(Animal, Mascota, Volador):\n",
    "     def __init__(self, nombre):\n",
    "        Animal.__init__(self, nombre)"
   ]
  },
  {
   "cell_type": "code",
   "execution_count": 5,
   "id": "89cddcb8",
   "metadata": {},
   "outputs": [
    {
     "name": "stdout",
     "output_type": "stream",
     "text": [
      "Este animal está volando\n",
      "La mascota juega\n"
     ]
    }
   ],
   "source": [
    "loro = PajaroMascota('Polly')\n",
    "loro.volar()\n",
    "loro.jugar()"
   ]
  },
  {
   "cell_type": "code",
   "execution_count": 6,
   "id": "b7d32ea9",
   "metadata": {},
   "outputs": [
    {
     "name": "stdout",
     "output_type": "stream",
     "text": [
      "La mascota juega\n"
     ]
    }
   ],
   "source": [
    "perro = Perro('Rufus')\n",
    "perro.jugar()"
   ]
  },
  {
   "attachments": {},
   "cell_type": "markdown",
   "id": "2c8ba64c",
   "metadata": {},
   "source": [
    "## Polimorfismo:\n",
    "\n",
    "El polimorfismo es el uso de un método y remplazarlo por otro dentro de una clase hija."
   ]
  },
  {
   "cell_type": "code",
   "execution_count": 7,
   "id": "1a87b761",
   "metadata": {},
   "outputs": [],
   "source": [
    "class Animal:\n",
    "    def __init__(self, nombre):\n",
    "        self.nombre = nombre\n",
    "    \n",
    "    def sonido(self):\n",
    "        pass\n",
    "\n",
    "class Perro(Animal):\n",
    "    def sonido(self):\n",
    "        return 'Guau guau'\n",
    "\n",
    "class Gato(Animal):\n",
    "    def sonido(self):\n",
    "        return 'Miau miau'"
   ]
  },
  {
   "cell_type": "code",
   "execution_count": 8,
   "id": "bcd49de5",
   "metadata": {},
   "outputs": [
    {
     "name": "stdout",
     "output_type": "stream",
     "text": [
      "Adolfo:Guau guau\n",
      "Botas:Miau miau\n",
      "Toby:Guau guau\n",
      "Ñao:Miau miau\n"
     ]
    }
   ],
   "source": [
    "animales = [Perro('Adolfo'), Gato('Botas'), Perro('Toby'), Gato('Ñao')]\n",
    "\n",
    "# Recorremos la lista de animales:\n",
    "for animal in animales:\n",
    "    print(animal.nombre + ':' + animal.sonido())"
   ]
  }
 ],
 "metadata": {
  "kernelspec": {
   "display_name": "Python 3 (ipykernel)",
   "language": "python",
   "name": "python3"
  },
  "language_info": {
   "codemirror_mode": {
    "name": "ipython",
    "version": 3
   },
   "file_extension": ".py",
   "mimetype": "text/x-python",
   "name": "python",
   "nbconvert_exporter": "python",
   "pygments_lexer": "ipython3",
   "version": "3.10.8"
  }
 },
 "nbformat": 4,
 "nbformat_minor": 5
}
